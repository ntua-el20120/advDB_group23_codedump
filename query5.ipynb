{
 "cells": [
  {
   "cell_type": "markdown",
   "id": "6b451700-f658-4779-b3b9-2b8eeb97b4aa",
   "metadata": {},
   "source": [
    "Output URI\n",
    "s3://groups-bucket-dblab-905418150721/group23/outputs/query5/"
   ]
  },
  {
   "cell_type": "markdown",
   "id": "e176520a-d26a-42ad-816e-28ed149103f0",
   "metadata": {},
   "source": [
    "Nα υπολογιστεί, ανά αστυνομικό τμήμα, ο αριθμός εγκλημάτων που έλαβαν χώρα πλησιέστερα σε\n",
    "αυτό, καθώς και η μέση απόστασή του από τις τοποθεσίες όπου σημειώθηκαν τα συγκεκριμένα περιστατικά. Τα αποτελέσματα να εμφανιστούν ταξινομημένα κατά αριθμό περιστατικών, με φθίνουσα\n",
    "σειρά (δείτε παράδειγμα στον Πίνακα 4)."
   ]
  },
  {
   "cell_type": "markdown",
   "id": "d423236e-6fc5-4f3b-a4d7-e9733e223e16",
   "metadata": {},
   "source": [
    "Δημιουργούμε το configuration"
   ]
  },
  {
   "cell_type": "code",
   "execution_count": 1,
   "id": "513f90d9-4a7e-4e78-9b21-25f09dcad61a",
   "metadata": {
    "tags": []
   },
   "outputs": [
    {
     "data": {
      "text/html": [
       "Current session configs: <tt>{'conf': {'spark.sql.catalog.spark_catalog.type': 'hive', 'spark.executor.instances': '2', 'spark.executor.cores': '4', 'spark.executor.memory': '8g', 'spark.driver.memory': '2g'}, 'kind': 'pyspark'}</tt><br>"
      ],
      "text/plain": [
       "<IPython.core.display.HTML object>"
      ]
     },
     "metadata": {},
     "output_type": "display_data"
    },
    {
     "data": {
      "text/html": [
       "<table>\n",
       "<tr><th>ID</th><th>YARN Application ID</th><th>Kind</th><th>State</th><th>Spark UI</th><th>Driver log</th><th>User</th><th>Current session?</th></tr><tr><td>2601</td><td>application_1732639283265_2560</td><td>pyspark</td><td>idle</td><td><a target=\"_blank\" href=\"http://ip-192-168-1-36.eu-central-1.compute.internal:20888/proxy/application_1732639283265_2560/\">Link</a></td><td><a target=\"_blank\" href=\"http://ip-192-168-1-80.eu-central-1.compute.internal:8042/node/containerlogs/container_1732639283265_2560_01_000002/livy\">Link</a></td><td>None</td><td></td></tr><tr><td>2704</td><td>application_1732639283265_2663</td><td>pyspark</td><td>idle</td><td><a target=\"_blank\" href=\"http://ip-192-168-1-36.eu-central-1.compute.internal:20888/proxy/application_1732639283265_2663/\">Link</a></td><td><a target=\"_blank\" href=\"http://ip-192-168-1-233.eu-central-1.compute.internal:8042/node/containerlogs/container_1732639283265_2663_01_000001/livy\">Link</a></td><td>None</td><td></td></tr><tr><td>2706</td><td>application_1732639283265_2665</td><td>pyspark</td><td>idle</td><td><a target=\"_blank\" href=\"http://ip-192-168-1-36.eu-central-1.compute.internal:20888/proxy/application_1732639283265_2665/\">Link</a></td><td><a target=\"_blank\" href=\"http://ip-192-168-1-233.eu-central-1.compute.internal:8042/node/containerlogs/container_1732639283265_2665_01_000001/livy\">Link</a></td><td>None</td><td></td></tr><tr><td>2709</td><td>application_1732639283265_2668</td><td>pyspark</td><td>idle</td><td><a target=\"_blank\" href=\"http://ip-192-168-1-36.eu-central-1.compute.internal:20888/proxy/application_1732639283265_2668/\">Link</a></td><td><a target=\"_blank\" href=\"http://ip-192-168-1-247.eu-central-1.compute.internal:8042/node/containerlogs/container_1732639283265_2668_01_000001/livy\">Link</a></td><td>None</td><td></td></tr></table>"
      ],
      "text/plain": [
       "<IPython.core.display.HTML object>"
      ]
     },
     "metadata": {},
     "output_type": "display_data"
    }
   ],
   "source": [
    "%%configure -f\n",
    "{\n",
    "    \"conf\": {\n",
    "        \"spark.executor.instances\": \"2\",\n",
    "        \"spark.executor.cores\": \"4\",\n",
    "        \"spark.executor.memory\": \"8g\",\n",
    "        \"spark.driver.memory\": \"2g\"\n",
    "    }\n",
    "}"
   ]
  },
  {
   "cell_type": "markdown",
   "id": "5b4defef-ebb4-4ba7-af76-ae5718e0234d",
   "metadata": {
    "tags": []
   },
   "source": [
    "Το query μας τρεχει ως εξής:\n",
    "* Ενώνουμε τους 2 πίνακες με τα εγκλήματα σε έναν\n",
    "* Για κάθε έγκλημα, κρατάμε τις συντεταγμένες του μαζί με ένα αναγνωριστικό για distinction από τα άλλα\n",
    "* Για κάθε αστυνομικό τμήμα κρατάμε το όνομα και τις συντεταγμένες του\n",
    "* Υπολογίζουμε όλες τις αποστάσεις από κάθε έγκλημα σε κάθε αστυνομικό τμήμα με cross join\n",
    "* Για τα records με ίδιο crime id τα ταξινομούμε με αύξουσα σειρά απόστασης και κρατάμε τη σειρά\n",
    "* Κρατάμε μόνο τα records με σειρά 1 (πιο κοντινό)\n",
    "* Εκτελούμε group by το αστυνομικό τμήμα και για όλα τα εγκλήματα μετράμε τον αριθμό τους και την μέση απόσταση"
   ]
  },
  {
   "cell_type": "code",
   "execution_count": 2,
   "id": "e698dfbd-a29b-417f-87c0-881aef3df395",
   "metadata": {
    "tags": []
   },
   "outputs": [
    {
     "name": "stdout",
     "output_type": "stream",
     "text": [
      "Starting Spark application\n"
     ]
    },
    {
     "data": {
      "text/html": [
       "<table>\n",
       "<tr><th>ID</th><th>YARN Application ID</th><th>Kind</th><th>State</th><th>Spark UI</th><th>Driver log</th><th>User</th><th>Current session?</th></tr><tr><td>2714</td><td>application_1732639283265_2673</td><td>pyspark</td><td>idle</td><td><a target=\"_blank\" href=\"http://ip-192-168-1-36.eu-central-1.compute.internal:20888/proxy/application_1732639283265_2673/\">Link</a></td><td><a target=\"_blank\" href=\"http://ip-192-168-1-119.eu-central-1.compute.internal:8042/node/containerlogs/container_1732639283265_2673_01_000001/livy\">Link</a></td><td>None</td><td>✔</td></tr></table>"
      ],
      "text/plain": [
       "<IPython.core.display.HTML object>"
      ]
     },
     "metadata": {},
     "output_type": "display_data"
    },
    {
     "data": {
      "application/vnd.jupyter.widget-view+json": {
       "model_id": "",
       "version_major": 2,
       "version_minor": 0
      },
      "text/plain": [
       "FloatProgress(value=0.0, bar_style='info', description='Progress:', layout=Layout(height='25px', width='50%'),…"
      ]
     },
     "metadata": {},
     "output_type": "display_data"
    },
    {
     "name": "stdout",
     "output_type": "stream",
     "text": [
      "SparkSession available as 'spark'.\n"
     ]
    },
    {
     "data": {
      "application/vnd.jupyter.widget-view+json": {
       "model_id": "",
       "version_major": 2,
       "version_minor": 0
      },
      "text/plain": [
       "FloatProgress(value=0.0, bar_style='info', description='Progress:', layout=Layout(height='25px', width='50%'),…"
      ]
     },
     "metadata": {},
     "output_type": "display_data"
    },
    {
     "name": "stdout",
     "output_type": "stream",
     "text": [
      "+----------------+------------------+------+\n",
      "|        division|  average_distance|     #|\n",
      "+----------------+------------------+------+\n",
      "|       HOLLYWOOD|2.0762639601779624|224340|\n",
      "|        VAN NUYS|2.9533697428196763|210134|\n",
      "|       SOUTHWEST|2.1913988057806324|188901|\n",
      "|        WILSHIRE|2.5926655329788733|185996|\n",
      "|     77TH STREET| 1.716544971969946|171827|\n",
      "|         OLYMPIC|1.7236036971777262|170897|\n",
      "| NORTH HOLLYWOOD|2.6430060941418145|167854|\n",
      "|         PACIFIC| 3.850070655307948|161359|\n",
      "|         CENTRAL|0.9924764374568322|153871|\n",
      "|         RAMPART|1.5345341879188912|152736|\n",
      "|       SOUTHEAST|2.4218662158882456|152176|\n",
      "|     WEST VALLEY|3.0356712163142756|138643|\n",
      "|         TOPANGA|  3.29695484175609|138217|\n",
      "|        FOOTHILL| 4.250921708424341|134896|\n",
      "|          HARBOR| 3.702561599356797|126747|\n",
      "|      HOLLENBECK| 2.680181237706614|115837|\n",
      "|WEST LOS ANGELES|2.7924572890339463|115781|\n",
      "|          NEWTON|1.6346357397097593|111110|\n",
      "|       NORTHEAST|  3.62366552460384|108109|\n",
      "|         MISSION|3.6909426142787285|103355|\n",
      "+----------------+------------------+------+\n",
      "only showing top 20 rows\n",
      "\n",
      "Execution Time : 105.85 seconds"
     ]
    }
   ],
   "source": [
    "from pyspark.sql import SparkSession\n",
    "from sedona.spark import *\n",
    "from pyspark.sql.functions import col\n",
    "import time\n",
    "\n",
    "# Create spark Session\n",
    "spark = SparkSession \\\n",
    "    .builder \\\n",
    "    .appName(\"QUERY 5\") \\\n",
    "    .getOrCreate()\n",
    "\n",
    "# Create sedona context\n",
    "sedona = SedonaContext.create(spark)\n",
    "\n",
    "\n",
    "\n",
    "crime19path = \"s3://initial-notebook-data-bucket-dblab-905418150721/CrimeData/Crime_Data_from_2010_to_2019_20241101.csv\"\n",
    "crime20path = \"s3://initial-notebook-data-bucket-dblab-905418150721/CrimeData/Crime_Data_from_2020_to_Present_20241101.csv\"\n",
    "stationpath = \"s3://initial-notebook-data-bucket-dblab-905418150721/LA_Police_Stations.csv\"\n",
    "\n",
    "start_time = time.time() \n",
    "\n",
    "crime19 = spark.read.format('csv').options(header='true').load(crime19path)\n",
    "crime20 = spark.read.format('csv').options(header='true').load(crime20path)\n",
    "station = spark.read.format('csv').options(header='true').load(stationpath)\n",
    "\n",
    "\n",
    "crime19 = crime19.filter((col(\"LAT\").isNotNull()) & (col(\"LAT\") != 0) & (col(\"LON\").isNotNull()) & (col(\"LON\") != 0))\n",
    "\n",
    "crime20 = crime20.filter((col(\"LAT\").isNotNull()) & (col(\"LAT\") != 0) & (col(\"LON\").isNotNull()) & (col(\"LON\") != 0))\n",
    "\n",
    "\n",
    "\n",
    "crime19.createOrReplaceTempView(\"crime19\")\n",
    "crime20.createOrReplaceTempView(\"crime20\")\n",
    "station.createOrReplaceTempView(\"station\")\n",
    "\n",
    "query = \"\"\"\n",
    "        WITH crimes AS (\n",
    "            SELECT * FROM crime19\n",
    "            UNION\n",
    "            SELECT * FROM crime20\n",
    "        ), \n",
    "        crime_loc AS (\n",
    "            SELECT ST_Point(LON, LAT) AS geometry, ROW_NUMBER() OVER (ORDER BY LON) AS key\n",
    "            FROM crimes\n",
    "        ),\n",
    "        station_loc AS (\n",
    "            SELECT DIVISION, ST_POINT(X,Y) as geometry \n",
    "            FROM station\n",
    "        ),\n",
    "        distances AS (\n",
    "            SELECT \n",
    "                s.DIVISION, \n",
    "                ST_DistanceSphere(c.geometry, s.geometry)/1000 AS distance, \n",
    "                c.key\n",
    "            FROM crime_loc c\n",
    "            CROSS JOIN station_loc s\n",
    "        ),\n",
    "        ranked_distances AS (\n",
    "            SELECT \n",
    "                DIVISION,\n",
    "                distance,\n",
    "                ROW_NUMBER() OVER (PARTITION BY key ORDER BY distance ASC) AS rank\n",
    "            FROM distances\n",
    "        ),\n",
    "        crime_with_station AS (\n",
    "            SELECT\n",
    "                DIVISION,\n",
    "                distance\n",
    "            FROM ranked_distances\n",
    "            WHERE rank = 1\n",
    "        )\n",
    "        SELECT \n",
    "            DIVISION AS division,\n",
    "            AVG(distance) AS average_distance,\n",
    "            COUNT(*) AS `#`\n",
    "        FROM crime_with_station\n",
    "        GROUP BY DIVISION\n",
    "        ORDER BY `#` DESC;\n",
    "        \"\"\"\n",
    "\n",
    "\n",
    "\n",
    "result = spark.sql(query)\n",
    "result.show()\n",
    "\n",
    "elapsed_time = time.time() - start_time\n",
    "print(f\"Execution Time : {elapsed_time:.2f} seconds\\n\")"
   ]
  },
  {
   "cell_type": "code",
   "execution_count": 3,
   "id": "740ead92-36ff-47d0-bf18-c7b11731e6bf",
   "metadata": {
    "tags": []
   },
   "outputs": [
    {
     "name": "stdout",
     "output_type": "stream",
     "text": [
      "Starting Spark application\n"
     ]
    },
    {
     "data": {
      "text/html": [
       "<table>\n",
       "<tr><th>ID</th><th>YARN Application ID</th><th>Kind</th><th>State</th><th>Spark UI</th><th>Driver log</th><th>User</th><th>Current session?</th></tr><tr><td>2717</td><td>application_1732639283265_2676</td><td>pyspark</td><td>idle</td><td><a target=\"_blank\" href=\"http://ip-192-168-1-36.eu-central-1.compute.internal:20888/proxy/application_1732639283265_2676/\">Link</a></td><td><a target=\"_blank\" href=\"http://ip-192-168-1-193.eu-central-1.compute.internal:8042/node/containerlogs/container_1732639283265_2676_01_000002/livy\">Link</a></td><td>None</td><td>✔</td></tr></table>"
      ],
      "text/plain": [
       "<IPython.core.display.HTML object>"
      ]
     },
     "metadata": {},
     "output_type": "display_data"
    },
    {
     "data": {
      "application/vnd.jupyter.widget-view+json": {
       "model_id": "",
       "version_major": 2,
       "version_minor": 0
      },
      "text/plain": [
       "FloatProgress(value=0.0, bar_style='info', description='Progress:', layout=Layout(height='25px', width='50%'),…"
      ]
     },
     "metadata": {},
     "output_type": "display_data"
    },
    {
     "name": "stdout",
     "output_type": "stream",
     "text": [
      "SparkSession available as 'spark'.\n"
     ]
    },
    {
     "data": {
      "text/html": [
       "Current session configs: <tt>{'conf': {'spark.sql.catalog.spark_catalog.type': 'hive', 'spark.executor.instances': '4', 'spark.executor.cores': '2', 'spark.executor.memory': '4g', 'spark.driver.memory': '2g'}, 'kind': 'pyspark'}</tt><br>"
      ],
      "text/plain": [
       "<IPython.core.display.HTML object>"
      ]
     },
     "metadata": {},
     "output_type": "display_data"
    },
    {
     "data": {
      "text/html": [
       "<table>\n",
       "<tr><th>ID</th><th>YARN Application ID</th><th>Kind</th><th>State</th><th>Spark UI</th><th>Driver log</th><th>User</th><th>Current session?</th></tr><tr><td>2601</td><td>application_1732639283265_2560</td><td>pyspark</td><td>idle</td><td><a target=\"_blank\" href=\"http://ip-192-168-1-36.eu-central-1.compute.internal:20888/proxy/application_1732639283265_2560/\">Link</a></td><td><a target=\"_blank\" href=\"http://ip-192-168-1-80.eu-central-1.compute.internal:8042/node/containerlogs/container_1732639283265_2560_01_000002/livy\">Link</a></td><td>None</td><td></td></tr><tr><td>2704</td><td>application_1732639283265_2663</td><td>pyspark</td><td>idle</td><td><a target=\"_blank\" href=\"http://ip-192-168-1-36.eu-central-1.compute.internal:20888/proxy/application_1732639283265_2663/\">Link</a></td><td><a target=\"_blank\" href=\"http://ip-192-168-1-233.eu-central-1.compute.internal:8042/node/containerlogs/container_1732639283265_2663_01_000001/livy\">Link</a></td><td>None</td><td></td></tr><tr><td>2706</td><td>application_1732639283265_2665</td><td>pyspark</td><td>idle</td><td><a target=\"_blank\" href=\"http://ip-192-168-1-36.eu-central-1.compute.internal:20888/proxy/application_1732639283265_2665/\">Link</a></td><td><a target=\"_blank\" href=\"http://ip-192-168-1-233.eu-central-1.compute.internal:8042/node/containerlogs/container_1732639283265_2665_01_000001/livy\">Link</a></td><td>None</td><td></td></tr><tr><td>2715</td><td>application_1732639283265_2674</td><td>pyspark</td><td>busy</td><td><a target=\"_blank\" href=\"http://ip-192-168-1-36.eu-central-1.compute.internal:20888/proxy/application_1732639283265_2674/\">Link</a></td><td><a target=\"_blank\" href=\"http://ip-192-168-1-178.eu-central-1.compute.internal:8042/node/containerlogs/container_1732639283265_2674_01_000001/livy\">Link</a></td><td>None</td><td></td></tr><tr><td>2716</td><td>application_1732639283265_2675</td><td>pyspark</td><td>idle</td><td><a target=\"_blank\" href=\"http://ip-192-168-1-36.eu-central-1.compute.internal:20888/proxy/application_1732639283265_2675/\">Link</a></td><td><a target=\"_blank\" href=\"http://ip-192-168-1-247.eu-central-1.compute.internal:8042/node/containerlogs/container_1732639283265_2675_01_000002/livy\">Link</a></td><td>None</td><td></td></tr><tr><td>2717</td><td>application_1732639283265_2676</td><td>pyspark</td><td>idle</td><td><a target=\"_blank\" href=\"http://ip-192-168-1-36.eu-central-1.compute.internal:20888/proxy/application_1732639283265_2676/\">Link</a></td><td><a target=\"_blank\" href=\"http://ip-192-168-1-193.eu-central-1.compute.internal:8042/node/containerlogs/container_1732639283265_2676_01_000002/livy\">Link</a></td><td>None</td><td>✔</td></tr></table>"
      ],
      "text/plain": [
       "<IPython.core.display.HTML object>"
      ]
     },
     "metadata": {},
     "output_type": "display_data"
    }
   ],
   "source": [
    "%%configure -f\n",
    "{\n",
    "    \"conf\": {\n",
    "        \"spark.executor.instances\": \"4\",\n",
    "        \"spark.executor.cores\": \"2\",\n",
    "        \"spark.executor.memory\": \"4g\", \n",
    "        \"spark.driver.memory\": \"2g\"\n",
    "    }\n",
    "}"
   ]
  },
  {
   "cell_type": "code",
   "execution_count": 4,
   "id": "bb2ee74e-93dc-49dc-b5db-e861b3cbcac2",
   "metadata": {
    "tags": []
   },
   "outputs": [
    {
     "data": {
      "application/vnd.jupyter.widget-view+json": {
       "model_id": "",
       "version_major": 2,
       "version_minor": 0
      },
      "text/plain": [
       "FloatProgress(value=0.0, bar_style='info', description='Progress:', layout=Layout(height='25px', width='50%'),…"
      ]
     },
     "metadata": {},
     "output_type": "display_data"
    },
    {
     "name": "stdout",
     "output_type": "stream",
     "text": [
      "+----------------+------------------+------+\n",
      "|        division|  average_distance|     #|\n",
      "+----------------+------------------+------+\n",
      "|       HOLLYWOOD|  2.07626396017796|224340|\n",
      "|        VAN NUYS|2.9533697428196746|210134|\n",
      "|       SOUTHWEST| 2.191398805780634|188901|\n",
      "|        WILSHIRE| 2.592665532978874|185996|\n",
      "|     77TH STREET|1.7165449719699533|171827|\n",
      "|         OLYMPIC|1.7236036971777253|170897|\n",
      "| NORTH HOLLYWOOD| 2.643006094141829|167854|\n",
      "|         PACIFIC|3.8500706553079516|161359|\n",
      "|         CENTRAL|0.9924764374568322|153871|\n",
      "|         RAMPART|1.5345341879188898|152736|\n",
      "|       SOUTHEAST|2.4218662158882505|152176|\n",
      "|     WEST VALLEY| 3.035671216314276|138643|\n",
      "|         TOPANGA|3.2969548417560897|138217|\n",
      "|        FOOTHILL| 4.250921708424342|134896|\n",
      "|          HARBOR| 3.702561599356801|126747|\n",
      "|      HOLLENBECK|2.6801812377066114|115837|\n",
      "|WEST LOS ANGELES| 2.792457289033946|115781|\n",
      "|          NEWTON|1.6346357397097588|111110|\n",
      "|       NORTHEAST|3.6236655246038407|108109|\n",
      "|         MISSION| 3.690942614278728|103355|\n",
      "+----------------+------------------+------+\n",
      "only showing top 20 rows\n",
      "\n",
      "Execution Time : 106.41 seconds"
     ]
    }
   ],
   "source": [
    "from pyspark.sql import SparkSession\n",
    "from sedona.spark import *\n",
    "from pyspark.sql.functions import col\n",
    "import time\n",
    "\n",
    "# Create spark Session\n",
    "spark = SparkSession \\\n",
    "    .builder \\\n",
    "    .appName(\"QUERY 5\") \\\n",
    "    .getOrCreate()\n",
    "\n",
    "# Create sedona context\n",
    "sedona = SedonaContext.create(spark)\n",
    "\n",
    "\n",
    "\n",
    "crime19path = \"s3://initial-notebook-data-bucket-dblab-905418150721/CrimeData/Crime_Data_from_2010_to_2019_20241101.csv\"\n",
    "crime20path = \"s3://initial-notebook-data-bucket-dblab-905418150721/CrimeData/Crime_Data_from_2020_to_Present_20241101.csv\"\n",
    "stationpath = \"s3://initial-notebook-data-bucket-dblab-905418150721/LA_Police_Stations.csv\"\n",
    "\n",
    "start_time = time.time() \n",
    "\n",
    "crime19 = spark.read.format('csv').options(header='true').load(crime19path)\n",
    "crime20 = spark.read.format('csv').options(header='true').load(crime20path)\n",
    "station = spark.read.format('csv').options(header='true').load(stationpath)\n",
    "\n",
    "\n",
    "crime19 = crime19.filter((col(\"LAT\").isNotNull()) & (col(\"LAT\") != 0) & (col(\"LON\").isNotNull()) & (col(\"LON\") != 0))\n",
    "\n",
    "crime20 = crime20.filter((col(\"LAT\").isNotNull()) & (col(\"LAT\") != 0) & (col(\"LON\").isNotNull()) & (col(\"LON\") != 0))\n",
    "\n",
    "\n",
    "\n",
    "crime19.createOrReplaceTempView(\"crime19\")\n",
    "crime20.createOrReplaceTempView(\"crime20\")\n",
    "station.createOrReplaceTempView(\"station\")\n",
    "\n",
    "query = \"\"\"\n",
    "        WITH crimes AS (\n",
    "            SELECT * FROM crime19\n",
    "            UNION\n",
    "            SELECT * FROM crime20\n",
    "        ), \n",
    "        crime_loc AS (\n",
    "            SELECT ST_Point(LON, LAT) AS geometry, ROW_NUMBER() OVER (ORDER BY LON) AS key\n",
    "            FROM crimes\n",
    "        ),\n",
    "        station_loc AS (\n",
    "            SELECT DIVISION, ST_POINT(X,Y) as geometry \n",
    "            FROM station\n",
    "        ),\n",
    "        distances AS (\n",
    "            SELECT \n",
    "                s.DIVISION, \n",
    "                ST_DistanceSphere(c.geometry, s.geometry)/1000 AS distance, \n",
    "                c.key\n",
    "            FROM crime_loc c\n",
    "            CROSS JOIN station_loc s\n",
    "        ),\n",
    "        ranked_distances AS (\n",
    "            SELECT \n",
    "                DIVISION,\n",
    "                distance,\n",
    "                ROW_NUMBER() OVER (PARTITION BY key ORDER BY distance ASC) AS rank\n",
    "            FROM distances\n",
    "        ),\n",
    "        crime_with_station AS (\n",
    "            SELECT\n",
    "                DIVISION,\n",
    "                distance\n",
    "            FROM ranked_distances\n",
    "            WHERE rank = 1\n",
    "        )\n",
    "        SELECT \n",
    "            DIVISION AS division,\n",
    "            AVG(distance) AS average_distance,\n",
    "            COUNT(*) AS `#`\n",
    "        FROM crime_with_station\n",
    "        GROUP BY DIVISION\n",
    "        ORDER BY `#` DESC;\n",
    "        \"\"\"\n",
    "\n",
    "\n",
    "\n",
    "result = spark.sql(query)\n",
    "result.show()\n",
    "\n",
    "elapsed_time = time.time() - start_time\n",
    "print(f\"Execution Time : {elapsed_time:.2f} seconds\\n\")"
   ]
  },
  {
   "cell_type": "code",
   "execution_count": 5,
   "id": "f6400c3c-baf0-4d4a-9313-c9867ab9bc3c",
   "metadata": {
    "tags": []
   },
   "outputs": [
    {
     "name": "stdout",
     "output_type": "stream",
     "text": [
      "Starting Spark application\n"
     ]
    },
    {
     "data": {
      "text/html": [
       "<table>\n",
       "<tr><th>ID</th><th>YARN Application ID</th><th>Kind</th><th>State</th><th>Spark UI</th><th>Driver log</th><th>User</th><th>Current session?</th></tr><tr><td>2719</td><td>application_1732639283265_2678</td><td>pyspark</td><td>idle</td><td><a target=\"_blank\" href=\"http://ip-192-168-1-36.eu-central-1.compute.internal:20888/proxy/application_1732639283265_2678/\">Link</a></td><td><a target=\"_blank\" href=\"http://ip-192-168-1-193.eu-central-1.compute.internal:8042/node/containerlogs/container_1732639283265_2678_01_000001/livy\">Link</a></td><td>None</td><td>✔</td></tr></table>"
      ],
      "text/plain": [
       "<IPython.core.display.HTML object>"
      ]
     },
     "metadata": {},
     "output_type": "display_data"
    },
    {
     "data": {
      "application/vnd.jupyter.widget-view+json": {
       "model_id": "",
       "version_major": 2,
       "version_minor": 0
      },
      "text/plain": [
       "FloatProgress(value=0.0, bar_style='info', description='Progress:', layout=Layout(height='25px', width='50%'),…"
      ]
     },
     "metadata": {},
     "output_type": "display_data"
    },
    {
     "name": "stdout",
     "output_type": "stream",
     "text": [
      "SparkSession available as 'spark'.\n"
     ]
    },
    {
     "data": {
      "text/html": [
       "Current session configs: <tt>{'conf': {'spark.sql.catalog.spark_catalog.type': 'hive', 'spark.executor.instances': '8', 'spark.executor.cores': '1', 'spark.executor.memory': '2g', 'spark.driver.memory': '2g'}, 'kind': 'pyspark'}</tt><br>"
      ],
      "text/plain": [
       "<IPython.core.display.HTML object>"
      ]
     },
     "metadata": {},
     "output_type": "display_data"
    },
    {
     "data": {
      "text/html": [
       "<table>\n",
       "<tr><th>ID</th><th>YARN Application ID</th><th>Kind</th><th>State</th><th>Spark UI</th><th>Driver log</th><th>User</th><th>Current session?</th></tr><tr><td>2601</td><td>application_1732639283265_2560</td><td>pyspark</td><td>idle</td><td><a target=\"_blank\" href=\"http://ip-192-168-1-36.eu-central-1.compute.internal:20888/proxy/application_1732639283265_2560/\">Link</a></td><td><a target=\"_blank\" href=\"http://ip-192-168-1-80.eu-central-1.compute.internal:8042/node/containerlogs/container_1732639283265_2560_01_000002/livy\">Link</a></td><td>None</td><td></td></tr><tr><td>2704</td><td>application_1732639283265_2663</td><td>pyspark</td><td>idle</td><td><a target=\"_blank\" href=\"http://ip-192-168-1-36.eu-central-1.compute.internal:20888/proxy/application_1732639283265_2663/\">Link</a></td><td><a target=\"_blank\" href=\"http://ip-192-168-1-233.eu-central-1.compute.internal:8042/node/containerlogs/container_1732639283265_2663_01_000001/livy\">Link</a></td><td>None</td><td></td></tr><tr><td>2706</td><td>application_1732639283265_2665</td><td>pyspark</td><td>idle</td><td><a target=\"_blank\" href=\"http://ip-192-168-1-36.eu-central-1.compute.internal:20888/proxy/application_1732639283265_2665/\">Link</a></td><td><a target=\"_blank\" href=\"http://ip-192-168-1-233.eu-central-1.compute.internal:8042/node/containerlogs/container_1732639283265_2665_01_000001/livy\">Link</a></td><td>None</td><td></td></tr><tr><td>2715</td><td>application_1732639283265_2674</td><td>pyspark</td><td>busy</td><td><a target=\"_blank\" href=\"http://ip-192-168-1-36.eu-central-1.compute.internal:20888/proxy/application_1732639283265_2674/\">Link</a></td><td><a target=\"_blank\" href=\"http://ip-192-168-1-178.eu-central-1.compute.internal:8042/node/containerlogs/container_1732639283265_2674_01_000001/livy\">Link</a></td><td>None</td><td></td></tr><tr><td>2718</td><td>application_1732639283265_2677</td><td>pyspark</td><td>idle</td><td><a target=\"_blank\" href=\"http://ip-192-168-1-36.eu-central-1.compute.internal:20888/proxy/application_1732639283265_2677/\">Link</a></td><td><a target=\"_blank\" href=\"http://ip-192-168-1-203.eu-central-1.compute.internal:8042/node/containerlogs/container_1732639283265_2677_01_000002/livy\">Link</a></td><td>None</td><td></td></tr><tr><td>2719</td><td>application_1732639283265_2678</td><td>pyspark</td><td>idle</td><td><a target=\"_blank\" href=\"http://ip-192-168-1-36.eu-central-1.compute.internal:20888/proxy/application_1732639283265_2678/\">Link</a></td><td><a target=\"_blank\" href=\"http://ip-192-168-1-193.eu-central-1.compute.internal:8042/node/containerlogs/container_1732639283265_2678_01_000001/livy\">Link</a></td><td>None</td><td>✔</td></tr></table>"
      ],
      "text/plain": [
       "<IPython.core.display.HTML object>"
      ]
     },
     "metadata": {},
     "output_type": "display_data"
    }
   ],
   "source": [
    "%%configure -f\n",
    "{\n",
    "    \"conf\": {\n",
    "        \"spark.executor.instances\": \"8\",\n",
    "        \"spark.executor.cores\": \"1\",\n",
    "        \"spark.executor.memory\": \"2g\",\n",
    "        \"spark.driver.memory\": \"2g\"\n",
    "    }\n",
    "}"
   ]
  },
  {
   "cell_type": "code",
   "execution_count": 6,
   "id": "6478d35c-3bb4-45ab-811e-20ff74e3bb32",
   "metadata": {
    "tags": []
   },
   "outputs": [
    {
     "data": {
      "application/vnd.jupyter.widget-view+json": {
       "model_id": "",
       "version_major": 2,
       "version_minor": 0
      },
      "text/plain": [
       "FloatProgress(value=0.0, bar_style='info', description='Progress:', layout=Layout(height='25px', width='50%'),…"
      ]
     },
     "metadata": {},
     "output_type": "display_data"
    },
    {
     "name": "stdout",
     "output_type": "stream",
     "text": [
      "+----------------+------------------+------+\n",
      "|        division|  average_distance|     #|\n",
      "+----------------+------------------+------+\n",
      "|       HOLLYWOOD|2.0762639601779616|224340|\n",
      "|        VAN NUYS|2.9533697428196706|210134|\n",
      "|       SOUTHWEST|2.1913988057806324|188901|\n",
      "|        WILSHIRE| 2.592665532978874|185996|\n",
      "|     77TH STREET| 1.716544971969952|171827|\n",
      "|         OLYMPIC|1.7236036971777255|170897|\n",
      "| NORTH HOLLYWOOD| 2.643006094141818|167854|\n",
      "|         PACIFIC| 3.850070655307949|161359|\n",
      "|         CENTRAL|0.9924764374568318|153871|\n",
      "|         RAMPART|1.5345341879188896|152736|\n",
      "|       SOUTHEAST|2.4218662158882487|152176|\n",
      "|     WEST VALLEY|3.0356712163142756|138643|\n",
      "|         TOPANGA|3.2969548417560905|138217|\n",
      "|        FOOTHILL| 4.250921708424341|134896|\n",
      "|          HARBOR| 3.702561599356798|126747|\n",
      "|      HOLLENBECK|2.6801812377066145|115837|\n",
      "|WEST LOS ANGELES|2.7924572890339467|115781|\n",
      "|          NEWTON|1.6346357397097584|111110|\n",
      "|       NORTHEAST|3.6236655246038407|108109|\n",
      "|         MISSION| 3.690942614278728|103355|\n",
      "+----------------+------------------+------+\n",
      "only showing top 20 rows\n",
      "\n",
      "Execution Time : 115.25 seconds"
     ]
    }
   ],
   "source": [
    "from pyspark.sql import SparkSession\n",
    "from sedona.spark import *\n",
    "from pyspark.sql.functions import col\n",
    "import time\n",
    "\n",
    "# Create spark Session\n",
    "spark = SparkSession \\\n",
    "    .builder \\\n",
    "    .appName(\"QUERY 5\") \\\n",
    "    .getOrCreate()\n",
    "\n",
    "# Create sedona context\n",
    "sedona = SedonaContext.create(spark)\n",
    "\n",
    "\n",
    "\n",
    "crime19path = \"s3://initial-notebook-data-bucket-dblab-905418150721/CrimeData/Crime_Data_from_2010_to_2019_20241101.csv\"\n",
    "crime20path = \"s3://initial-notebook-data-bucket-dblab-905418150721/CrimeData/Crime_Data_from_2020_to_Present_20241101.csv\"\n",
    "stationpath = \"s3://initial-notebook-data-bucket-dblab-905418150721/LA_Police_Stations.csv\"\n",
    "\n",
    "start_time = time.time() \n",
    "\n",
    "crime19 = spark.read.format('csv').options(header='true').load(crime19path)\n",
    "crime20 = spark.read.format('csv').options(header='true').load(crime20path)\n",
    "station = spark.read.format('csv').options(header='true').load(stationpath)\n",
    "\n",
    "\n",
    "crime19 = crime19.filter((col(\"LAT\").isNotNull()) & (col(\"LAT\") != 0) & (col(\"LON\").isNotNull()) & (col(\"LON\") != 0))\n",
    "\n",
    "crime20 = crime20.filter((col(\"LAT\").isNotNull()) & (col(\"LAT\") != 0) & (col(\"LON\").isNotNull()) & (col(\"LON\") != 0))\n",
    "\n",
    "\n",
    "\n",
    "crime19.createOrReplaceTempView(\"crime19\")\n",
    "crime20.createOrReplaceTempView(\"crime20\")\n",
    "station.createOrReplaceTempView(\"station\")\n",
    "\n",
    "query = \"\"\"\n",
    "        WITH crimes AS (\n",
    "            SELECT * FROM crime19\n",
    "            UNION\n",
    "            SELECT * FROM crime20\n",
    "        ), \n",
    "        crime_loc AS (\n",
    "            SELECT ST_Point(LON, LAT) AS geometry, ROW_NUMBER() OVER (ORDER BY LON) AS key\n",
    "            FROM crimes\n",
    "        ),\n",
    "        station_loc AS (\n",
    "            SELECT DIVISION, ST_POINT(X,Y) as geometry \n",
    "            FROM station\n",
    "        ),\n",
    "        distances AS (\n",
    "            SELECT \n",
    "                s.DIVISION, \n",
    "                ST_DistanceSphere(c.geometry, s.geometry)/1000 AS distance, \n",
    "                c.key\n",
    "            FROM crime_loc c\n",
    "            CROSS JOIN station_loc s\n",
    "        ),\n",
    "        ranked_distances AS (\n",
    "            SELECT \n",
    "                DIVISION,\n",
    "                distance,\n",
    "                ROW_NUMBER() OVER (PARTITION BY key ORDER BY distance ASC) AS rank\n",
    "            FROM distances\n",
    "        ),\n",
    "        crime_with_station AS (\n",
    "            SELECT\n",
    "                DIVISION,\n",
    "                distance\n",
    "            FROM ranked_distances\n",
    "            WHERE rank = 1\n",
    "        )\n",
    "        SELECT \n",
    "            DIVISION AS division,\n",
    "            AVG(distance) AS average_distance,\n",
    "            COUNT(*) AS `#`\n",
    "        FROM crime_with_station\n",
    "        GROUP BY DIVISION\n",
    "        ORDER BY `#` DESC;\n",
    "        \"\"\"\n",
    "\n",
    "\n",
    "\n",
    "result = spark.sql(query)\n",
    "result.show()\n",
    "\n",
    "elapsed_time = time.time() - start_time\n",
    "print(f\"Execution Time : {elapsed_time:.2f} seconds\\n\")"
   ]
  },
  {
   "cell_type": "code",
   "execution_count": null,
   "id": "c757f546-81fd-4aaf-bc56-426e413726c2",
   "metadata": {
    "tags": []
   },
   "outputs": [],
   "source": []
  }
 ],
 "metadata": {
  "kernelspec": {
   "display_name": "Sparkmagic (PySpark)",
   "language": "python",
   "name": "pysparkkernel"
  },
  "language_info": {
   "codemirror_mode": {
    "name": "python",
    "version": 3
   },
   "file_extension": ".py",
   "mimetype": "text/x-python",
   "name": "pyspark",
   "pygments_lexer": "python3"
  }
 },
 "nbformat": 4,
 "nbformat_minor": 5
}
